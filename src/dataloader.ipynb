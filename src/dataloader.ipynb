{
 "cells": [
  {
   "cell_type": "code",
   "execution_count": 39,
   "metadata": {},
   "outputs": [],
   "source": [
    "import struct\n",
    "import numpy as np\n",
    "import os\n",
    "import cv2\n",
    "import multiprocessing\n",
    "import argparse\n",
    "import glob"
   ]
  },
  {
   "cell_type": "code",
   "execution_count": 43,
   "metadata": {},
   "outputs": [
    {
     "ename": "KeyError",
     "evalue": "'point_clouds is not a file in the archive'",
     "output_type": "error",
     "traceback": [
      "\u001b[0;31m---------------------------------------------------------------------------\u001b[0m",
      "\u001b[0;31mKeyError\u001b[0m                                  Traceback (most recent call last)",
      "Cell \u001b[0;32mIn[43], line 7\u001b[0m\n\u001b[1;32m      5\u001b[0m \u001b[39mfor\u001b[39;00m file \u001b[39min\u001b[39;00m files:\n\u001b[1;32m      6\u001b[0m     data \u001b[39m=\u001b[39m np\u001b[39m.\u001b[39mload(file)\n\u001b[0;32m----> 7\u001b[0m     \u001b[39mprint\u001b[39m(data[\u001b[39m'\u001b[39;49m\u001b[39mpoint_clouds\u001b[39;49m\u001b[39m'\u001b[39;49m])\n\u001b[1;32m      9\u001b[0m     \u001b[39mif\u001b[39;00m i \u001b[39m==\u001b[39m \u001b[39m0\u001b[39m:\n\u001b[1;32m     10\u001b[0m         \u001b[39mbreak\u001b[39;00m\n",
      "File \u001b[0;32m~/opt/anaconda3/envs/my_re/lib/python3.8/site-packages/numpy/lib/npyio.py:260\u001b[0m, in \u001b[0;36mNpzFile.__getitem__\u001b[0;34m(self, key)\u001b[0m\n\u001b[1;32m    258\u001b[0m         \u001b[39mreturn\u001b[39;00m \u001b[39mself\u001b[39m\u001b[39m.\u001b[39mzip\u001b[39m.\u001b[39mread(key)\n\u001b[1;32m    259\u001b[0m \u001b[39melse\u001b[39;00m:\n\u001b[0;32m--> 260\u001b[0m     \u001b[39mraise\u001b[39;00m \u001b[39mKeyError\u001b[39;00m(\u001b[39m\"\u001b[39m\u001b[39m%s\u001b[39;00m\u001b[39m is not a file in the archive\u001b[39m\u001b[39m\"\u001b[39m \u001b[39m%\u001b[39m key)\n",
      "\u001b[0;31mKeyError\u001b[0m: 'point_clouds is not a file in the archive'"
     ]
    }
   ],
   "source": [
    "files = glob.glob(\"../data/msr_npz/*\")\n",
    "\n",
    "i = 0\n",
    "\n",
    "for file in files:\n",
    "    data = np.load(file)\n",
    "    print(data['point_clouds'])\n",
    "\n",
    "    if i == 0:\n",
    "        break"
   ]
  },
  {
   "cell_type": "code",
   "execution_count": null,
   "metadata": {},
   "outputs": [],
   "source": [
    "\n",
    "def read_bin(filename):\n",
    "    f = open(filename, 'rb')\n",
    "\n",
    "    num_frames = f.read(4)\n",
    "    num_frames = struct.unpack(\"<L\", num_frames)[0]\n",
    "\n",
    "    width = f.read(4)\n",
    "    width = struct.unpack(\"<L\", width)[0]\n",
    "\n",
    "    height = f.read(4)\n",
    "    height = struct.unpack(\"<L\", height)[0]\n",
    "\n",
    "    depth = f.read()\n",
    "    depth = struct.unpack('{}I'.format(num_frames*height*width), depth)\n",
    "    depth = np.array(depth)\n",
    "    depth = np.reshape(depth, [num_frames, height, width])\n",
    "    return depth"
   ]
  }
 ],
 "metadata": {
  "kernelspec": {
   "display_name": "my_re",
   "language": "python",
   "name": "python3"
  },
  "language_info": {
   "codemirror_mode": {
    "name": "ipython",
    "version": 3
   },
   "file_extension": ".py",
   "mimetype": "text/x-python",
   "name": "python",
   "nbconvert_exporter": "python",
   "pygments_lexer": "ipython3",
   "version": "3.8.16"
  },
  "orig_nbformat": 4
 },
 "nbformat": 4,
 "nbformat_minor": 2
}
